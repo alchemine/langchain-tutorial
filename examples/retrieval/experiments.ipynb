{
 "cells": [
  {
   "cell_type": "code",
   "execution_count": 1,
   "metadata": {},
   "outputs": [
    {
     "name": "stderr",
     "output_type": "stream",
     "text": [
      "/home/vscode/.cache/pypoetry/virtualenvs/langchain-tutorial-9TtSrW0h-py3.11/lib/python3.11/site-packages/pydantic/_migration.py:283: UserWarning: `pydantic.error_wrappers:ValidationError` has been moved to `pydantic:ValidationError`.\n",
      "  warnings.warn(f'`{import_path}` has been moved to `{new_location}`.')\n",
      "/home/vscode/.cache/pypoetry/virtualenvs/langchain-tutorial-9TtSrW0h-py3.11/lib/python3.11/site-packages/langchain_core/_api/deprecation.py:139: LangChainDeprecationWarning: The method `BaseRetriever.get_relevant_documents` was deprecated in langchain-core 0.1.46 and will be removed in 0.3.0. Use invoke instead.\n",
      "  warn_deprecated(\n"
     ]
    },
    {
     "name": "stdout",
     "output_type": "stream",
     "text": [
      "[Document(page_content='인공지능'), Document(page_content='머신러닝'), Document(page_content='딥러닝'), Document(page_content='LLM')]\n",
      "[Document(page_content='인공지능'), Document(page_content='ESG'), Document(page_content='딥러닝'), Document(page_content='경영학')]\n",
      "[Document(page_content='ESG'), Document(page_content='경영학'), Document(page_content='딥러닝'), Document(page_content='LLM')]\n",
      "[Document(page_content='경영학'), Document(page_content='머신러닝'), Document(page_content='ESG'), Document(page_content='인공지능')]\n"
     ]
    }
   ],
   "source": [
    "# from langchain_openai import OpenAIEmbeddings\n",
    "from langchain.vectorstores import DocArrayInMemorySearch\n",
    "\n",
    "from core.llm import EMBEDDINGS\n",
    "\n",
    "\n",
    "vectorstore = DocArrayInMemorySearch.from_texts(\n",
    "    [\"인공지능\", \"머신러닝\", \"딥러닝\", \"LLM\", \"ESG\", \"경영학\"],\n",
    "    embedding=EMBEDDINGS,\n",
    ")\n",
    "retriever = vectorstore.as_retriever()\n",
    "print(retriever.get_relevant_documents(\"Machine learning\"))\n",
    "print(retriever.get_relevant_documents(\"AI\"))\n",
    "print(retriever.get_relevant_documents(\"ESG 강의\"))\n",
    "print(\n",
    "    retriever.get_relevant_documents(\n",
    "        \"친환경 및 사회적 책임경영과 투명경영을 통해 지속가능한 발전을 추구하는 것\"\n",
    "    )\n",
    ")"
   ]
  }
 ],
 "metadata": {
  "kernelspec": {
   "display_name": "langchain-py-env",
   "language": "python",
   "name": "python3"
  },
  "language_info": {
   "codemirror_mode": {
    "name": "ipython",
    "version": 3
   },
   "file_extension": ".py",
   "mimetype": "text/x-python",
   "name": "python",
   "nbconvert_exporter": "python",
   "pygments_lexer": "ipython3",
   "version": "3.11.4"
  }
 },
 "nbformat": 4,
 "nbformat_minor": 2
}
