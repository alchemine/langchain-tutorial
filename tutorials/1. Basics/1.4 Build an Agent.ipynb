{
 "cells": [
  {
   "cell_type": "code",
   "execution_count": 1,
   "metadata": {},
   "outputs": [],
   "source": [
    "# https://python.langchain.com/v0.2/docs/tutorials/agents/"
   ]
  },
  {
   "cell_type": "markdown",
   "metadata": {},
   "source": [
    "### Agent\n",
    "\n",
    "- Agents\\\n",
    "  Agents are systems that use LLMs as reasoning engines to determine which actions to take and the inputs to pass them.\n"
   ]
  },
  {
   "cell_type": "code",
   "execution_count": 6,
   "metadata": {},
   "outputs": [],
   "source": [
    "import getpass\n",
    "import os\n",
    "\n",
    "os.environ[\"TAVILY_API_KEY\"] = getpass.getpass()"
   ]
  },
  {
   "cell_type": "code",
   "execution_count": 2,
   "metadata": {},
   "outputs": [
    {
     "name": "stdout",
     "output_type": "stream",
     "text": [
      "[{'url': 'https://world-weather.info/forecast/usa/san_francisco/july-2024/', 'content': 'Extended weather forecast in San Francisco. Hourly Week 10 days 14 days 30 days Year. Detailed ⚡ San Francisco Weather Forecast for July 2024 - day/night 🌡️ temperatures, precipitations - World-Weather.info.'}, {'url': 'https://www.accuweather.com/en/us/san-francisco/94103/july-weather/347629', 'content': 'Get the monthly weather forecast for San Francisco, CA, including daily high/low, historical averages, to help you plan ahead.'}]\n"
     ]
    }
   ],
   "source": [
    "from langchain_community.tools.tavily_search import TavilySearchResults\n",
    "\n",
    "\n",
    "search = TavilySearchResults(max_results=2)\n",
    "search_results = search.invoke(\"what is the weather in SF\")\n",
    "print(search_results)\n",
    "\n",
    "tools = [search]"
   ]
  },
  {
   "cell_type": "code",
   "execution_count": 5,
   "metadata": {},
   "outputs": [
    {
     "name": "stdout",
     "output_type": "stream",
     "text": [
      "ContentString: Hello! How can I assist you today?\n",
      "ToolCalls: []\n",
      "ContentString: \n",
      "ToolCalls: [{'name': 'tavily_search_results_json', 'args': {'query': 'weather in San Francisco'}, 'id': 'call_T2qPZpnKFzlx4lDaayEcHyEZ', 'type': 'tool_call'}]\n"
     ]
    }
   ],
   "source": [
    "from langchain_core.messages import HumanMessage\n",
    "\n",
    "from core.llm import CHAT_LLM\n",
    "\n",
    "\n",
    "model_with_tools = CHAT_LLM.bind_tools(tools)\n",
    "\n",
    "\n",
    "response = model_with_tools.invoke([HumanMessage(\"Hi!\")])\n",
    "print(f\"ContentString: {response.content}\")\n",
    "print(f\"ToolCalls: {response.tool_calls}\")\n",
    "\n",
    "\n",
    "# This isn't calling that tool yet - it's just telling us to. In order to actually call it, we'll want to create our agent.\n",
    "response = model_with_tools.invoke([HumanMessage(\"What's the weather in SF?\")])\n",
    "print(f\"ContentString: {response.content}\")\n",
    "print(f\"ToolCalls: {response.tool_calls}\")"
   ]
  },
  {
   "cell_type": "markdown",
   "metadata": {},
   "source": [
    "### Create and run the agent\n"
   ]
  },
  {
   "cell_type": "code",
   "execution_count": 8,
   "metadata": {},
   "outputs": [],
   "source": [
    "from langgraph.prebuilt import create_react_agent\n",
    "\n",
    "agent_executor = create_react_agent(CHAT_LLM, tools)"
   ]
  },
  {
   "cell_type": "code",
   "execution_count": 9,
   "metadata": {},
   "outputs": [
    {
     "data": {
      "text/plain": [
       "[HumanMessage(content='hi!', id='0c88a436-3c90-4115-957d-e4274fddc300'),\n",
       " AIMessage(content='Hello! How can I assist you today?', response_metadata={'token_usage': {'completion_tokens': 10, 'prompt_tokens': 83, 'total_tokens': 93}, 'model_name': 'gpt-35-turbo', 'system_fingerprint': 'fp_811936bd4f', 'finish_reason': 'stop', 'logprobs': None, 'content_filter_results': {}}, id='run-80cd8e3a-4091-44aa-99ae-16d260074493-0', usage_metadata={'input_tokens': 83, 'output_tokens': 10, 'total_tokens': 93})]"
      ]
     },
     "execution_count": 9,
     "metadata": {},
     "output_type": "execute_result"
    }
   ],
   "source": [
    "response = agent_executor.invoke({\"messages\": [HumanMessage(\"hi!\")]})\n",
    "response[\"messages\"]"
   ]
  },
  {
   "cell_type": "code",
   "execution_count": 10,
   "metadata": {},
   "outputs": [
    {
     "data": {
      "text/plain": [
       "[HumanMessage(content=\"what's the weather in SF?\", id='b498c923-46b6-4d54-94e4-3d3d42d761f7'),\n",
       " AIMessage(content='', additional_kwargs={'tool_calls': [{'id': 'call_6iEScCeiPfO49NeVvVzOepfE', 'function': {'arguments': '{\"query\":\"weather in San Francisco\"}', 'name': 'tavily_search_results_json'}, 'type': 'function'}]}, response_metadata={'token_usage': {'completion_tokens': 21, 'prompt_tokens': 88, 'total_tokens': 109}, 'model_name': 'gpt-35-turbo', 'system_fingerprint': 'fp_811936bd4f', 'finish_reason': 'tool_calls', 'logprobs': None, 'content_filter_results': {}}, id='run-d33a1b3b-0c06-44e7-84db-f641e6700e1d-0', tool_calls=[{'name': 'tavily_search_results_json', 'args': {'query': 'weather in San Francisco'}, 'id': 'call_6iEScCeiPfO49NeVvVzOepfE', 'type': 'tool_call'}], usage_metadata={'input_tokens': 88, 'output_tokens': 21, 'total_tokens': 109}),\n",
       " ToolMessage(content='[{\"url\": \"https://weatherspark.com/h/y/557/2024/Historical-Weather-during-2024-in-San-Francisco-California-United-States\", \"content\": \"San Francisco Temperature History 2024\\\\nHourly Temperature in 2024 in San Francisco\\\\nCompare San Francisco to another city:\\\\nCloud Cover in 2024 in San Francisco\\\\nDaily Precipitation in 2024 in San Francisco\\\\nObserved Weather in 2024 in San Francisco\\\\nHours of Daylight and Twilight in 2024 in San Francisco\\\\nSunrise & Sunset with Twilight and Daylight Saving Time in 2024 in San Francisco\\\\nSolar Elevation and Azimuth in 2024 in San Francisco\\\\nMoon Rise, Set & Phases in 2024 in San Francisco\\\\nHumidity Comfort Levels in 2024 in San Francisco\\\\nWind Speed in 2024 in San Francisco\\\\nHourly Wind Speed in 2024 in San Francisco\\\\nHourly Wind Direction in 2024 in San Francisco\\\\nAtmospheric Pressure in 2024 in San Francisco\\\\nData Sources\\\\n See all nearby weather stations\\\\nLatest Report \\\\u2014 3:56 PM\\\\nWed, Jan 24, 2024\\\\u00a0\\\\u00a0\\\\u00a0\\\\u00a013 min ago\\\\u00a0\\\\u00a0\\\\u00a0\\\\u00a0UTC 23:56\\\\nCall Sign KSFO\\\\nTemp.\\\\n60.1\\\\u00b0F\\\\nPrecipitation\\\\nNo Report\\\\nWind\\\\n6.9 mph\\\\nCloud Cover\\\\nMostly Cloudy\\\\n1,800 ft\\\\nRaw: KSFO 242356Z 18006G19KT 10SM FEW015 BKN018 BKN039 16/12 A3004 RMK AO2 SLP171 T01560122 10156 20122 55001\\\\n While having the tremendous advantages of temporal and spatial completeness, these reconstructions: (1) are based on computer models that may have model-based errors, (2) are coarsely sampled on a 50 km grid and are therefore unable to reconstruct the local variations of many microclimates, and (3) have particular difficulty with the weather in some coastal areas, especially small islands.\\\\n We further caution that our travel scores are only as good as the data that underpin them, that weather conditions at any given location and time are unpredictable and variable, and that the definition of the scores reflects a particular set of preferences that may not agree with those of any particular reader.\\\\n 2024 Weather History in San Francisco California, United States\\\\nThe data for this report comes from the San Francisco International Airport.\"}, {\"url\": \"https://www.timeanddate.com/weather/usa/san-francisco/ext\", \"content\": \"San Francisco 14 Day Extended Forecast. Weather Today Weather Hourly 14 Day Forecast Yesterday/Past Weather Climate (Averages) Currently: 72 \\\\u00b0F. Passing clouds. (Weather station: San Francisco International Airport, USA). See more current weather.\"}]', name='tavily_search_results_json', id='18c302e8-1532-483b-b09e-496dd33dd11f', tool_call_id='call_6iEScCeiPfO49NeVvVzOepfE'),\n",
       " AIMessage(content='The current weather in San Francisco is 60.1°F with mostly cloudy skies. The wind speed is 6.9 mph. For more detailed information, you can visit [this link](https://weatherspark.com/h/y/557/2024/Historical-Weather-during-2024-in-San-Francisco-California-United-States).', response_metadata={'token_usage': {'completion_tokens': 76, 'prompt_tokens': 760, 'total_tokens': 836}, 'model_name': 'gpt-35-turbo', 'system_fingerprint': 'fp_811936bd4f', 'finish_reason': 'stop', 'logprobs': None, 'content_filter_results': {}}, id='run-bcc3b27e-9bfb-4faa-accf-7423f502d422-0', usage_metadata={'input_tokens': 760, 'output_tokens': 76, 'total_tokens': 836})]"
      ]
     },
     "execution_count": 10,
     "metadata": {},
     "output_type": "execute_result"
    }
   ],
   "source": [
    "response = agent_executor.invoke(\n",
    "    {\"messages\": [HumanMessage(\"what's the weather in SF?\")]}\n",
    ")\n",
    "response[\"messages\"]"
   ]
  },
  {
   "cell_type": "markdown",
   "metadata": {},
   "source": [
    "### Streaming messages\n"
   ]
  },
  {
   "cell_type": "code",
   "execution_count": 11,
   "metadata": {},
   "outputs": [
    {
     "name": "stdout",
     "output_type": "stream",
     "text": [
      "{'agent': {'messages': [AIMessage(content='', additional_kwargs={'tool_calls': [{'id': 'call_QKj2aaVqqZFXThwqIYlTy7Px', 'function': {'arguments': '{\"query\":\"weather in San Francisco\"}', 'name': 'tavily_search_results_json'}, 'type': 'function'}]}, response_metadata={'token_usage': {'completion_tokens': 21, 'prompt_tokens': 88, 'total_tokens': 109}, 'model_name': 'gpt-35-turbo', 'system_fingerprint': 'fp_811936bd4f', 'finish_reason': 'tool_calls', 'logprobs': None, 'content_filter_results': {}}, id='run-1d4b4f5f-1ed1-4602-bc02-92c32e0bf710-0', tool_calls=[{'name': 'tavily_search_results_json', 'args': {'query': 'weather in San Francisco'}, 'id': 'call_QKj2aaVqqZFXThwqIYlTy7Px', 'type': 'tool_call'}], usage_metadata={'input_tokens': 88, 'output_tokens': 21, 'total_tokens': 109})]}}\n",
      "---\n",
      "{'tools': {'messages': [ToolMessage(content='[{\"url\": \"https://www.wunderground.com/hourly/us/ca/san-francisco/94120/date/2024-7-14\", \"content\": \"San Francisco Weather Forecasts. Weather Underground provides local & long-range weather forecasts, weatherreports, maps & tropical weather conditions for the San Francisco area.\"}, {\"url\": \"https://www.weatherapi.com/\", \"content\": \"{\\'location\\': {\\'name\\': \\'San Francisco\\', \\'region\\': \\'California\\', \\'country\\': \\'United States of America\\', \\'lat\\': 37.78, \\'lon\\': -122.42, \\'tz_id\\': \\'America/Los_Angeles\\', \\'localtime_epoch\\': 1720957422, \\'localtime\\': \\'2024-07-14 4:43\\'}, \\'current\\': {\\'last_updated_epoch\\': 1720956600, \\'last_updated\\': \\'2024-07-14 04:30\\', \\'temp_c\\': 15.6, \\'temp_f\\': 60.1, \\'is_day\\': 0, \\'condition\\': {\\'text\\': \\'Partly cloudy\\', \\'icon\\': \\'//cdn.weatherapi.com/weather/64x64/night/116.png\\', \\'code\\': 1003}, \\'wind_mph\\': 9.4, \\'wind_kph\\': 15.1, \\'wind_degree\\': 300, \\'wind_dir\\': \\'WNW\\', \\'pressure_mb\\': 1015.0, \\'pressure_in\\': 29.98, \\'precip_mm\\': 0.0, \\'precip_in\\': 0.0, \\'humidity\\': 93, \\'cloud\\': 75, \\'feelslike_c\\': 15.6, \\'feelslike_f\\': 60.1, \\'windchill_c\\': 14.1, \\'windchill_f\\': 57.4, \\'heatindex_c\\': 14.5, \\'heatindex_f\\': 58.0, \\'dewpoint_c\\': 12.6, \\'dewpoint_f\\': 54.7, \\'vis_km\\': 16.0, \\'vis_miles\\': 9.0, \\'uv\\': 1.0, \\'gust_mph\\': 13.9, \\'gust_kph\\': 22.3}}\"}]', name='tavily_search_results_json', tool_call_id='call_QKj2aaVqqZFXThwqIYlTy7Px')]}}\n",
      "---\n",
      "{'agent': {'messages': [AIMessage(content='The current weather in San Francisco is partly cloudy with a temperature of 60.1°F (15.6°C). The wind speed is 15.1 km/h coming from the west-northwest direction. The humidity is at 93%, and the visibility is 9.0 miles.', response_metadata={'token_usage': {'completion_tokens': 61, 'prompt_tokens': 600, 'total_tokens': 661}, 'model_name': 'gpt-35-turbo', 'system_fingerprint': 'fp_811936bd4f', 'finish_reason': 'stop', 'logprobs': None, 'content_filter_results': {}}, id='run-3e1612b2-03ad-4c81-be9b-de91ec4c0b60-0', usage_metadata={'input_tokens': 600, 'output_tokens': 61, 'total_tokens': 661})]}}\n",
      "---\n"
     ]
    }
   ],
   "source": [
    "for chunk in agent_executor.stream(\n",
    "    {\"messages\": [HumanMessage(\"what's the weather in SF?\")]}\n",
    "):\n",
    "    print(chunk)\n",
    "    print(\"---\")"
   ]
  },
  {
   "cell_type": "markdown",
   "metadata": {},
   "source": [
    "### Streaming tokens\n",
    "\n",
    "- This .astream_events method only works with Python 3.11 or higher.\n"
   ]
  },
  {
   "cell_type": "code",
   "execution_count": 15,
   "metadata": {},
   "outputs": [
    {
     "name": "stdout",
     "output_type": "stream",
     "text": [
      "--\n",
      "Starting tool: tavily_search_results_json with inputs: {'query': 'weather in San Francisco'}\n",
      "Done tool: tavily_search_results_json\n",
      "Tool output was: [{'url': 'https://world-weather.info/forecast/usa/san_francisco/july-2024/', 'content': 'Extended weather forecast in San Francisco. Hourly Week 10 days 14 days 30 days Year. Detailed ⚡ San Francisco Weather Forecast for July 2024 - day/night 🌡️ temperatures, precipitations - World-Weather.info.'}, {'url': 'https://www.weatherapi.com/', 'content': \"{'location': {'name': 'San Francisco', 'region': 'California', 'country': 'United States of America', 'lat': 37.78, 'lon': -122.42, 'tz_id': 'America/Los_Angeles', 'localtime_epoch': 1720957422, 'localtime': '2024-07-14 4:43'}, 'current': {'last_updated_epoch': 1720956600, 'last_updated': '2024-07-14 04:30', 'temp_c': 15.6, 'temp_f': 60.1, 'is_day': 0, 'condition': {'text': 'Partly cloudy', 'icon': '//cdn.weatherapi.com/weather/64x64/night/116.png', 'code': 1003}, 'wind_mph': 9.4, 'wind_kph': 15.1, 'wind_degree': 300, 'wind_dir': 'WNW', 'pressure_mb': 1015.0, 'pressure_in': 29.98, 'precip_mm': 0.0, 'precip_in': 0.0, 'humidity': 93, 'cloud': 75, 'feelslike_c': 15.6, 'feelslike_f': 60.1, 'windchill_c': 14.1, 'windchill_f': 57.4, 'heatindex_c': 14.5, 'heatindex_f': 58.0, 'dewpoint_c': 12.6, 'dewpoint_f': 54.7, 'vis_km': 16.0, 'vis_miles': 9.0, 'uv': 1.0, 'gust_mph': 13.9, 'gust_kph': 22.3}}\"}]\n",
      "--\n",
      "The| current| weather| in| San| Francisco| is| as| follows|:\n",
      "|-| Temperature|:| |60|.|1|°F| (|15|.|6|°C|)\n",
      "|-| Condition|:| Part|ly| cloudy|\n",
      "|-| Wind|:| |15|.|1| km|/h| from| W|NW|\n",
      "|-| Hum|idity|:| |93|%\n",
      "|-| Cloud| Cover|:| |75|%\n",
      "|-| Visibility|:| |9|.|0| miles|\n",
      "|-| UV| Index|:| |1|.|0|\n",
      "\n",
      "|For| more| detailed| information|,| you| can| visit| [|this| link|](|https|://|www|.weather|api|.com|/|).|"
     ]
    }
   ],
   "source": [
    "async for event in agent_executor.astream_events(\n",
    "    {\"messages\": [HumanMessage(\"What's the weather in SF?\")]}, version=\"v1\"\n",
    "):\n",
    "    kind = event[\"event\"]\n",
    "    if kind == \"on_chain_start\":\n",
    "        if (\n",
    "            event[\"name\"] == \"Agent\"\n",
    "        ):  # Was assigned when creating the agent with `.with_config({\"run_name\": \"Agent\"})`\n",
    "            print(\n",
    "                f\"Starting agent: {event['name']} with input: {event['data'].get('input')}\"\n",
    "            )\n",
    "    elif kind == \"on_chain_end\":\n",
    "        if (\n",
    "            event[\"name\"] == \"Agent\"\n",
    "        ):  # Was assigned when creating the agent with `.with_config({\"run_name\": \"Agent\"})`\n",
    "            print()\n",
    "            print(\"--\")\n",
    "            print(\n",
    "                f\"Done agent: {event['name']} with output: {event['data'].get('output')['output']}\"\n",
    "            )\n",
    "    if kind == \"on_chat_model_stream\":\n",
    "        content = event[\"data\"][\"chunk\"].content\n",
    "        if content:\n",
    "            # Empty content in the context of OpenAI means\n",
    "            # that the model is asking for a tool to be invoked.\n",
    "            # So we only print non-empty content\n",
    "            print(content, end=\"|\")\n",
    "    elif kind == \"on_tool_start\":\n",
    "        print(\"--\")\n",
    "        print(\n",
    "            f\"Starting tool: {event['name']} with inputs: {event['data'].get('input')}\"\n",
    "        )\n",
    "    elif kind == \"on_tool_end\":\n",
    "        print(f\"Done tool: {event['name']}\")\n",
    "        print(f\"Tool output was: {event['data'].get('output')}\")\n",
    "        print(\"--\")"
   ]
  },
  {
   "cell_type": "markdown",
   "metadata": {},
   "source": [
    "### Adding in memory\n",
    "\n",
    "- Use `thread_id` key (not `session_id`)\n"
   ]
  },
  {
   "cell_type": "code",
   "execution_count": 17,
   "metadata": {},
   "outputs": [
    {
     "name": "stdout",
     "output_type": "stream",
     "text": [
      "{'agent': {'messages': [AIMessage(content='Hello Bob! How can I assist you today?', response_metadata={'token_usage': {'completion_tokens': 11, 'prompt_tokens': 86, 'total_tokens': 97}, 'model_name': 'gpt-35-turbo', 'system_fingerprint': 'fp_811936bd4f', 'finish_reason': 'stop', 'logprobs': None, 'content_filter_results': {}}, id='run-6fb0f9c4-4124-4240-a5dd-68fc4a4a4917-0', usage_metadata={'input_tokens': 86, 'output_tokens': 11, 'total_tokens': 97})]}}\n",
      "---\n"
     ]
    }
   ],
   "source": [
    "from langgraph.checkpoint.sqlite import SqliteSaver\n",
    "\n",
    "memory = SqliteSaver.from_conn_string(\":memory:\")\n",
    "\n",
    "agent_executor = create_react_agent(CHAT_LLM, tools, checkpointer=memory)\n",
    "config = {\"configurable\": {\"thread_id\": \"abc123\"}}\n",
    "\n",
    "for chunk in agent_executor.stream(\n",
    "    {\"messages\": [HumanMessage(\"Hi I'm Bob!\")]},\n",
    "    config,\n",
    "):\n",
    "    print(chunk)\n",
    "    print(\"---\")"
   ]
  },
  {
   "cell_type": "code",
   "execution_count": 18,
   "metadata": {},
   "outputs": [
    {
     "name": "stdout",
     "output_type": "stream",
     "text": [
      "{'agent': {'messages': [AIMessage(content='Your name is Bob! How can I help you, Bob?', response_metadata={'token_usage': {'completion_tokens': 14, 'prompt_tokens': 109, 'total_tokens': 123}, 'model_name': 'gpt-35-turbo', 'system_fingerprint': 'fp_811936bd4f', 'finish_reason': 'stop', 'logprobs': None, 'content_filter_results': {}}, id='run-b33fe8ae-82c9-41e0-b2c1-b6d88081118b-0', usage_metadata={'input_tokens': 109, 'output_tokens': 14, 'total_tokens': 123})]}}\n",
      "---\n"
     ]
    }
   ],
   "source": [
    "for chunk in agent_executor.stream(\n",
    "    {\"messages\": [HumanMessage(\"What's my name?\")]},\n",
    "    config,\n",
    "):\n",
    "    print(chunk)\n",
    "    print(\"---\")"
   ]
  }
 ],
 "metadata": {
  "kernelspec": {
   "display_name": "langchain-tutorial-9TtSrW0h-py3.11",
   "language": "python",
   "name": "python3"
  },
  "language_info": {
   "codemirror_mode": {
    "name": "ipython",
    "version": 3
   },
   "file_extension": ".py",
   "mimetype": "text/x-python",
   "name": "python",
   "nbconvert_exporter": "python",
   "pygments_lexer": "ipython3",
   "version": "3.11.4"
  }
 },
 "nbformat": 4,
 "nbformat_minor": 2
}
