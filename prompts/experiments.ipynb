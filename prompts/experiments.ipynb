{
 "cells": [
  {
   "cell_type": "markdown",
   "metadata": {},
   "source": [
    "### 1. `SystemMessage`, `HumanMessage`, `AIMessage`\n"
   ]
  },
  {
   "cell_type": "code",
   "execution_count": 1,
   "metadata": {},
   "outputs": [
    {
     "name": "stdout",
     "output_type": "stream",
     "text": [
      "System: System message: Instruction to the system\n",
      "System: System message\n",
      "Human: Human message: Utterance of the user\n",
      "Human: Human message\n",
      "Human: Human message\n",
      "AI: AI message: Response from the system\n",
      "AI: AI message\n",
      "AI: AI message\n"
     ]
    }
   ],
   "source": [
    "from langchain.prompts import ChatPromptTemplate\n",
    "from langchain_core.messages import AIMessage, HumanMessage, SystemMessage\n",
    "\n",
    "template = ChatPromptTemplate.from_messages(\n",
    "    [\n",
    "        SystemMessage(content=\"System message: Instruction to the system\"),\n",
    "        (\"system\", \"System message\"),\n",
    "        HumanMessage(content=\"Human message: Utterance of the user\"),\n",
    "        (\"human\", \"Human message\"),\n",
    "        (\"user\", \"Human message\"),\n",
    "        AIMessage(content=\"AI message: Response from the system\"),\n",
    "        (\"ai\", \"AI message\"),\n",
    "        (\"assistant\", \"AI message\"),\n",
    "    ]\n",
    ")\n",
    "val = template.invoke({})\n",
    "print(val.to_string())"
   ]
  },
  {
   "cell_type": "markdown",
   "metadata": {},
   "source": [
    "### 2. `FunctionMessage` with `intermediate_steps`\n"
   ]
  },
  {
   "cell_type": "code",
   "execution_count": 2,
   "metadata": {},
   "outputs": [
    {
     "name": "stdout",
     "output_type": "stream",
     "text": [
      "System: You are function calling assistant\n",
      "Human: 있잖아 그거해봐 그거\n",
      "AI: 어.. 또..?\n",
      "Human: 해봐! 빨리!\n",
      "AI: {'arguments': '{\"utterance\": \"지나친 세일은 게임의 가치를 낮출 뿐입니다\"}', 'name': 'request_again'}\n",
      "Function: 75% 세일을 하지 않을 것입니다\n"
     ]
    }
   ],
   "source": [
    "import json\n",
    "\n",
    "from langchain.prompts import ChatPromptTemplate\n",
    "from langchain_core.messages import AIMessage, HumanMessage, SystemMessage\n",
    "from langchain_core.agents import AgentActionMessageLog\n",
    "from langchain.agents.format_scratchpad import format_to_openai_function_messages\n",
    "\n",
    "\n",
    "def generate_artificial_tool_response(tool: str, tool_input: dict):\n",
    "    \"\"\"Generate artificial tool response.\n",
    "\n",
    "    Args:\n",
    "        tool (str): The tool.\n",
    "        tool_input (dict): The tool input.\n",
    "\n",
    "    Returns:\n",
    "        dict: The artificial tool response.\n",
    "    \"\"\"\n",
    "    return AgentActionMessageLog(\n",
    "        tool,\n",
    "        tool_input,\n",
    "        log=f\"\\nInvoking: `{tool}` with `{tool_input}`\\n\\n\\n\",\n",
    "        message_log=[\n",
    "            AIMessage(\n",
    "                content=\"\",\n",
    "                additional_kwargs={\n",
    "                    \"function_call\": {\n",
    "                        \"arguments\": json.dumps(tool_input, ensure_ascii=False),\n",
    "                        \"name\": tool,\n",
    "                    }\n",
    "                },\n",
    "            )\n",
    "        ],\n",
    "    )\n",
    "\n",
    "\n",
    "agent_action = generate_artificial_tool_response(\n",
    "    tool=\"request_again\",\n",
    "    tool_input={\"utterance\": \"지나친 세일은 게임의 가치를 낮출 뿐입니다\"},\n",
    ")\n",
    "observation = \"75% 세일을 하지 않을 것입니다\"\n",
    "\n",
    "template = ChatPromptTemplate.from_messages(\n",
    "    [\n",
    "        SystemMessage(content=\"You are function calling assistant\"),\n",
    "        HumanMessage(content=\"있잖아 그거해봐 그거\"),\n",
    "        AIMessage(content=\"어.. 또..?\"),\n",
    "        HumanMessage(content=\"해봐! 빨리!\"),\n",
    "        *format_to_openai_function_messages([(agent_action, observation)]),\n",
    "    ]\n",
    ")\n",
    "val = template.invoke({})\n",
    "print(val.to_string())"
   ]
  },
  {
   "cell_type": "code",
   "execution_count": 3,
   "metadata": {},
   "outputs": [
    {
     "name": "stdout",
     "output_type": "stream",
     "text": [
      "System: You are function calling assistant\n",
      "Human: 있잖아 그거해봐 그거\n",
      "AI: 어.. 또..?\n",
      "Human: 해봐! 빨리!\n",
      "AI: {'arguments': '{\"utterance\": \"지나친 세일은 게임의 가치를 낮출 뿐입니다\"}', 'name': 'request_again'}\n",
      "Function: 75% 세일을 하지 않을 것입니다\n"
     ]
    }
   ],
   "source": [
    "import json\n",
    "\n",
    "from langchain.prompts import ChatPromptTemplate, MessagesPlaceholder\n",
    "from langchain.schema.runnable import RunnablePassthrough\n",
    "from langchain_core.messages import AIMessage, HumanMessage, SystemMessage\n",
    "from langchain_core.agents import AgentActionMessageLog\n",
    "from langchain.agents.format_scratchpad import format_to_openai_function_messages\n",
    "\n",
    "\n",
    "def generate_artificial_tool_response(tool: str, tool_input: dict):\n",
    "    \"\"\"Generate artificial tool response.\n",
    "\n",
    "    Args:\n",
    "        tool (str): The tool.\n",
    "        tool_input (dict): The tool input.\n",
    "\n",
    "    Returns:\n",
    "        dict: The artificial tool response.\n",
    "    \"\"\"\n",
    "    return AgentActionMessageLog(\n",
    "        tool,\n",
    "        tool_input,\n",
    "        log=f\"\\nInvoking: `{tool}` with `{tool_input}`\\n\\n\\n\",\n",
    "        message_log=[\n",
    "            AIMessage(\n",
    "                content=\"\",\n",
    "                additional_kwargs={\n",
    "                    \"function_call\": {\n",
    "                        \"arguments\": json.dumps(tool_input, ensure_ascii=False),\n",
    "                        \"name\": tool,\n",
    "                    }\n",
    "                },\n",
    "            )\n",
    "        ],\n",
    "    )\n",
    "\n",
    "\n",
    "agent_action = generate_artificial_tool_response(\n",
    "    tool=\"request_again\",\n",
    "    tool_input={\"utterance\": \"지나친 세일은 게임의 가치를 낮출 뿐입니다\"},\n",
    ")\n",
    "observation = \"75% 세일을 하지 않을 것입니다\"\n",
    "\n",
    "preprocess = RunnablePassthrough.assign(\n",
    "    agent_scratchpad=lambda input: format_to_openai_function_messages(\n",
    "        input[\"intermediate_steps\"]\n",
    "    )\n",
    ")\n",
    "template = ChatPromptTemplate.from_messages(\n",
    "    [\n",
    "        SystemMessage(content=\"You are function calling assistant\"),\n",
    "        HumanMessage(content=\"있잖아 그거해봐 그거\"),\n",
    "        AIMessage(content=\"어.. 또..?\"),\n",
    "        HumanMessage(content=\"해봐! 빨리!\"),\n",
    "        MessagesPlaceholder(variable_name=\"agent_scratchpad\"),\n",
    "    ]\n",
    ")\n",
    "template_with_preprocess = preprocess | template\n",
    "val = template_with_preprocess.invoke(\n",
    "    {\"intermediate_steps\": [(agent_action, observation)]}\n",
    ")\n",
    "print(val.to_string())"
   ]
  }
 ],
 "metadata": {
  "kernelspec": {
   "display_name": "langchain-py-env",
   "language": "python",
   "name": "python3"
  },
  "language_info": {
   "codemirror_mode": {
    "name": "ipython",
    "version": 3
   },
   "file_extension": ".py",
   "mimetype": "text/x-python",
   "name": "python",
   "nbconvert_exporter": "python",
   "pygments_lexer": "ipython3",
   "version": "3.11.4"
  }
 },
 "nbformat": 4,
 "nbformat_minor": 2
}
