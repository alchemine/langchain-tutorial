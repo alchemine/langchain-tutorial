{
 "cells": [
  {
   "cell_type": "code",
   "execution_count": 3,
   "metadata": {},
   "outputs": [],
   "source": [
    "from langchain import hub\n",
    "\n",
    "prompt1 = hub.pull(\"hwchase17/openai-functions-agent\")\n",
    "prompt2 = hub.pull(\"hwchase17/openai-tools-agent\")"
   ]
  },
  {
   "cell_type": "code",
   "execution_count": 11,
   "metadata": {},
   "outputs": [
    {
     "name": "stdout",
     "output_type": "stream",
     "text": [
      "System: You are a helpful assistant\n",
      "Human: Hello, how are you?\n",
      "System: You are a helpful assistant\n",
      "Human: Hello, how are you?\n"
     ]
    }
   ],
   "source": [
    "print(\n",
    "    prompt1.invoke({\"input\": \"Hello, how are you?\", \"agent_scratchpad\": []}).to_string()\n",
    ")\n",
    "\n",
    "print(\n",
    "    prompt2.invoke({\"input\": \"Hello, how are you?\", \"agent_scratchpad\": []}).to_string()\n",
    ")"
   ]
  }
 ],
 "metadata": {
  "kernelspec": {
   "display_name": "langchain-py-env",
   "language": "python",
   "name": "python3"
  },
  "language_info": {
   "codemirror_mode": {
    "name": "ipython",
    "version": 3
   },
   "file_extension": ".py",
   "mimetype": "text/x-python",
   "name": "python",
   "nbconvert_exporter": "python",
   "pygments_lexer": "ipython3",
   "version": "3.11.4"
  }
 },
 "nbformat": 4,
 "nbformat_minor": 2
}
