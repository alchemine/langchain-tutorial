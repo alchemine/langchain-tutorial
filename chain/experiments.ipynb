{
 "cells": [
  {
   "cell_type": "code",
   "execution_count": 1,
   "metadata": {},
   "outputs": [
    {
     "name": "stdout",
     "output_type": "stream",
     "text": [
      "\n",
      "\n",
      "\u001b[1m> Entering new ConversationChain chain...\u001b[0m\n",
      "Prompt after formatting:\n",
      "\u001b[32;1m\u001b[1;3mYou are AI assistant extracting the location and time information from the user input.\n",
      "\n",
      "History:\n",
      "[]\n",
      "\n",
      "Conversation:\n",
      "Human: Hello\n",
      "AI:\u001b[0m\n",
      "\n",
      "\u001b[1m> Finished chain.\u001b[0m\n",
      "\n",
      "\n",
      "\u001b[1m> Entering new ConversationChain chain...\u001b[0m\n",
      "Prompt after formatting:\n",
      "\u001b[32;1m\u001b[1;3mYou are AI assistant extracting the location and time information from the user input.\n",
      "\n",
      "History:\n",
      "[HumanMessage(content='Hello'), AIMessage(content=' Hello! How can I assist you today?')]\n",
      "\n",
      "Conversation:\n",
      "Human: What time is it in New York?\n",
      "AI:\u001b[0m\n",
      "\n",
      "\u001b[1m> Finished chain.\u001b[0m\n"
     ]
    },
    {
     "data": {
      "text/plain": [
       "{'input': 'What time is it in New York?',\n",
       " 'history': [HumanMessage(content='Hello'),\n",
       "  AIMessage(content=' Hello! How can I assist you today?'),\n",
       "  HumanMessage(content='What time is it in New York?'),\n",
       "  AIMessage(content=' The current time in New York is 3:00 PM.')],\n",
       " 'response': ' The current time in New York is 3:00 PM.'}"
      ]
     },
     "execution_count": 1,
     "metadata": {},
     "output_type": "execute_result"
    }
   ],
   "source": [
    "from langchain.prompts.prompt import PromptTemplate\n",
    "from langchain.chains import ConversationChain\n",
    "from langchain_openai import OpenAI\n",
    "from langchain.memory import ConversationBufferMemory\n",
    "\n",
    "\n",
    "memory = ConversationBufferMemory(return_messages=True)\n",
    "\n",
    "template = \"\"\"You are AI assistant extracting the location and time information from the user input.\n",
    "\n",
    "History:\n",
    "{history}\n",
    "\n",
    "Conversation:\n",
    "Human: {input}\n",
    "AI:\"\"\"\n",
    "prompt = PromptTemplate(input_variables=[\"history\", \"input\"], template=template)\n",
    "\n",
    "llm = OpenAI(temperature=0)\n",
    "conversation = ConversationChain(llm=llm, prompt=prompt, verbose=True, memory=memory)\n",
    "conversation.invoke({\"input\": \"Hello\"})\n",
    "conversation.invoke({\"input\": \"What time is it in New York?\"})"
   ]
  }
 ],
 "metadata": {
  "kernelspec": {
   "display_name": "langchain-py-env",
   "language": "python",
   "name": "python3"
  },
  "language_info": {
   "codemirror_mode": {
    "name": "ipython",
    "version": 3
   },
   "file_extension": ".py",
   "mimetype": "text/x-python",
   "name": "python",
   "nbconvert_exporter": "python",
   "pygments_lexer": "ipython3",
   "version": "3.11.4"
  }
 },
 "nbformat": 4,
 "nbformat_minor": 2
}
